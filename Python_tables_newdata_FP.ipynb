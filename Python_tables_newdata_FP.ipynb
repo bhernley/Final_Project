{
 "cells": [
  {
   "cell_type": "code",
   "execution_count": 12,
   "id": "35d05271",
   "metadata": {},
   "outputs": [],
   "source": [
    "import pandas as pd\n",
    "import os\n",
    "import numpy as np"
   ]
  },
  {
   "cell_type": "code",
   "execution_count": 14,
   "id": "fd580d3f",
   "metadata": {},
   "outputs": [
    {
     "data": {
      "text/html": [
       "<div>\n",
       "<style scoped>\n",
       "    .dataframe tbody tr th:only-of-type {\n",
       "        vertical-align: middle;\n",
       "    }\n",
       "\n",
       "    .dataframe tbody tr th {\n",
       "        vertical-align: top;\n",
       "    }\n",
       "\n",
       "    .dataframe thead th {\n",
       "        text-align: right;\n",
       "    }\n",
       "</style>\n",
       "<table border=\"1\" class=\"dataframe\">\n",
       "  <thead>\n",
       "    <tr style=\"text-align: right;\">\n",
       "      <th></th>\n",
       "      <th>patient_no</th>\n",
       "      <th>gender_numeric</th>\n",
       "      <th>age_range</th>\n",
       "      <th>hypertension_numeric</th>\n",
       "      <th>heart_disease_numeric</th>\n",
       "      <th>smoking_history_numeric</th>\n",
       "      <th>bmi</th>\n",
       "      <th>hba1c_level</th>\n",
       "      <th>blood_glucose_level</th>\n",
       "      <th>diabetes_numeric</th>\n",
       "    </tr>\n",
       "  </thead>\n",
       "  <tbody>\n",
       "    <tr>\n",
       "      <th>0</th>\n",
       "      <td>1</td>\n",
       "      <td>0</td>\n",
       "      <td>5</td>\n",
       "      <td>0</td>\n",
       "      <td>1</td>\n",
       "      <td>0</td>\n",
       "      <td>25.19</td>\n",
       "      <td>6.6</td>\n",
       "      <td>140</td>\n",
       "      <td>0</td>\n",
       "    </tr>\n",
       "    <tr>\n",
       "      <th>1</th>\n",
       "      <td>3</td>\n",
       "      <td>1</td>\n",
       "      <td>2</td>\n",
       "      <td>0</td>\n",
       "      <td>0</td>\n",
       "      <td>0</td>\n",
       "      <td>27.32</td>\n",
       "      <td>5.7</td>\n",
       "      <td>158</td>\n",
       "      <td>0</td>\n",
       "    </tr>\n",
       "    <tr>\n",
       "      <th>2</th>\n",
       "      <td>4</td>\n",
       "      <td>0</td>\n",
       "      <td>3</td>\n",
       "      <td>0</td>\n",
       "      <td>0</td>\n",
       "      <td>1</td>\n",
       "      <td>23.45</td>\n",
       "      <td>5.0</td>\n",
       "      <td>155</td>\n",
       "      <td>0</td>\n",
       "    </tr>\n",
       "    <tr>\n",
       "      <th>3</th>\n",
       "      <td>5</td>\n",
       "      <td>1</td>\n",
       "      <td>5</td>\n",
       "      <td>1</td>\n",
       "      <td>1</td>\n",
       "      <td>1</td>\n",
       "      <td>20.14</td>\n",
       "      <td>4.8</td>\n",
       "      <td>155</td>\n",
       "      <td>0</td>\n",
       "    </tr>\n",
       "    <tr>\n",
       "      <th>4</th>\n",
       "      <td>6</td>\n",
       "      <td>0</td>\n",
       "      <td>1</td>\n",
       "      <td>0</td>\n",
       "      <td>0</td>\n",
       "      <td>0</td>\n",
       "      <td>27.32</td>\n",
       "      <td>6.6</td>\n",
       "      <td>85</td>\n",
       "      <td>0</td>\n",
       "    </tr>\n",
       "  </tbody>\n",
       "</table>\n",
       "</div>"
      ],
      "text/plain": [
       "   patient_no  gender_numeric  age_range  hypertension_numeric  \\\n",
       "0           1               0          5                     0   \n",
       "1           3               1          2                     0   \n",
       "2           4               0          3                     0   \n",
       "3           5               1          5                     1   \n",
       "4           6               0          1                     0   \n",
       "\n",
       "   heart_disease_numeric  smoking_history_numeric    bmi  hba1c_level  \\\n",
       "0                      1                        0  25.19          6.6   \n",
       "1                      0                        0  27.32          5.7   \n",
       "2                      0                        1  23.45          5.0   \n",
       "3                      1                        1  20.14          4.8   \n",
       "4                      0                        0  27.32          6.6   \n",
       "\n",
       "   blood_glucose_level  diabetes_numeric  \n",
       "0                  140                 0  \n",
       "1                  158                 0  \n",
       "2                  155                 0  \n",
       "3                  155                 0  \n",
       "4                   85                 0  "
      ]
     },
     "execution_count": 14,
     "metadata": {},
     "output_type": "execute_result"
    }
   ],
   "source": [
    "diabetes_df = pd.read_csv('full_numeric_table.csv')\n",
    "diabetes_df = pd.DataFrame(diabetes_df)\n",
    "\n",
    "diabetes_df.head()"
   ]
  },
  {
   "cell_type": "code",
   "execution_count": 15,
   "id": "2f9520c7",
   "metadata": {},
   "outputs": [
    {
     "name": "stdout",
     "output_type": "stream",
     "text": [
      "<class 'pandas.core.frame.DataFrame'>\n",
      "RangeIndex: 14092 entries, 0 to 14091\n",
      "Data columns (total 10 columns):\n",
      " #   Column                   Non-Null Count  Dtype  \n",
      "---  ------                   --------------  -----  \n",
      " 0   patient_no               14092 non-null  int64  \n",
      " 1   gender_numeric           14092 non-null  int64  \n",
      " 2   age_range                14092 non-null  int64  \n",
      " 3   hypertension_numeric     14092 non-null  int64  \n",
      " 4   heart_disease_numeric    14092 non-null  int64  \n",
      " 5   smoking_history_numeric  14092 non-null  int64  \n",
      " 6   bmi                      14092 non-null  float64\n",
      " 7   hba1c_level              14092 non-null  float64\n",
      " 8   blood_glucose_level      14092 non-null  int64  \n",
      " 9   diabetes_numeric         14092 non-null  int64  \n",
      "dtypes: float64(2), int64(8)\n",
      "memory usage: 1.1 MB\n"
     ]
    }
   ],
   "source": [
    "diabetes_df.info()"
   ]
  },
  {
   "cell_type": "code",
   "execution_count": 16,
   "id": "efb287bd",
   "metadata": {},
   "outputs": [
    {
     "data": {
      "text/plain": [
       "age_range\n",
       "5    7002\n",
       "4    2482\n",
       "3    1791\n",
       "2    1415\n",
       "1     894\n",
       "0     508\n",
       "dtype: int64"
      ]
     },
     "execution_count": 16,
     "metadata": {},
     "output_type": "execute_result"
    }
   ],
   "source": [
    "#Check the value count of ages\n",
    "age_count = diabetes_df.value_counts(\"age_range\")\n",
    "age_count"
   ]
  },
  {
   "cell_type": "code",
   "execution_count": 17,
   "id": "c4ba0259",
   "metadata": {},
   "outputs": [
    {
     "data": {
      "text/html": [
       "<div>\n",
       "<style scoped>\n",
       "    .dataframe tbody tr th:only-of-type {\n",
       "        vertical-align: middle;\n",
       "    }\n",
       "\n",
       "    .dataframe tbody tr th {\n",
       "        vertical-align: top;\n",
       "    }\n",
       "\n",
       "    .dataframe thead th {\n",
       "        text-align: right;\n",
       "    }\n",
       "</style>\n",
       "<table border=\"1\" class=\"dataframe\">\n",
       "  <thead>\n",
       "    <tr style=\"text-align: right;\">\n",
       "      <th></th>\n",
       "      <th>age_range</th>\n",
       "      <th>counts</th>\n",
       "    </tr>\n",
       "  </thead>\n",
       "  <tbody>\n",
       "    <tr>\n",
       "      <th>0</th>\n",
       "      <td>5</td>\n",
       "      <td>7002</td>\n",
       "    </tr>\n",
       "    <tr>\n",
       "      <th>1</th>\n",
       "      <td>4</td>\n",
       "      <td>2482</td>\n",
       "    </tr>\n",
       "    <tr>\n",
       "      <th>2</th>\n",
       "      <td>3</td>\n",
       "      <td>1791</td>\n",
       "    </tr>\n",
       "    <tr>\n",
       "      <th>3</th>\n",
       "      <td>2</td>\n",
       "      <td>1415</td>\n",
       "    </tr>\n",
       "    <tr>\n",
       "      <th>4</th>\n",
       "      <td>1</td>\n",
       "      <td>894</td>\n",
       "    </tr>\n",
       "  </tbody>\n",
       "</table>\n",
       "</div>"
      ],
      "text/plain": [
       "   age_range  counts\n",
       "0          5    7002\n",
       "1          4    2482\n",
       "2          3    1791\n",
       "3          2    1415\n",
       "4          1     894"
      ]
     },
     "execution_count": 17,
     "metadata": {},
     "output_type": "execute_result"
    }
   ],
   "source": [
    "age_df = pd.DataFrame(age_count)\n",
    "age_df = age_df.reset_index()\n",
    "age_df.columns = [\"age_range\", \"counts\"]\n",
    "age_df.head()"
   ]
  },
  {
   "cell_type": "code",
   "execution_count": 18,
   "id": "c69726a3",
   "metadata": {},
   "outputs": [
    {
     "name": "stdout",
     "output_type": "stream",
     "text": [
      "   age_range  counts\n",
      "0          5    7002\n",
      "1          4    2482\n",
      "2          3    1791\n",
      "3          2    1415\n",
      "4          1     894\n",
      "5          0     508\n"
     ]
    }
   ],
   "source": [
    "age_df.sort_values(\"age_range\", ascending=True)\n",
    "\n",
    "print(age_df)"
   ]
  },
  {
   "cell_type": "code",
   "execution_count": 20,
   "id": "49abcabf",
   "metadata": {},
   "outputs": [
    {
     "data": {
      "text/plain": [
       "gender_numeric\n",
       "0    8026\n",
       "1    6066\n",
       "dtype: int64"
      ]
     },
     "execution_count": 20,
     "metadata": {},
     "output_type": "execute_result"
    }
   ],
   "source": [
    "gender_count = diabetes_df.value_counts(\"gender_numeric\")\n",
    "gender_count"
   ]
  },
  {
   "cell_type": "code",
   "execution_count": 23,
   "id": "096a4fe4",
   "metadata": {},
   "outputs": [
    {
     "name": "stdout",
     "output_type": "stream",
     "text": [
      "diabetes_numeric  gender_numeric\n",
      "0                 0                 4319\n",
      "                  1                 2727\n",
      "1                 0                 3707\n",
      "                  1                 3339\n",
      "Name: gender_numeric, dtype: int64\n"
     ]
    }
   ],
   "source": [
    "gender_diagnose = diabetes_df.groupby([\"diabetes_numeric\", \"gender_numeric\"])[\"gender_numeric\"].count()\n",
    "print(gender_diagnose)"
   ]
  },
  {
   "cell_type": "code",
   "execution_count": 24,
   "id": "280caebe",
   "metadata": {},
   "outputs": [
    {
     "name": "stdout",
     "output_type": "stream",
     "text": [
      "diabetes_numeric  age_range\n",
      "0                 0             469\n",
      "                  1             824\n",
      "                  2            1154\n",
      "                  3            1186\n",
      "                  4            1191\n",
      "                  5            2222\n",
      "1                 0              39\n",
      "                  1              70\n",
      "                  2             261\n",
      "                  3             605\n",
      "                  4            1291\n",
      "                  5            4780\n",
      "Name: age_range, dtype: int64\n"
     ]
    }
   ],
   "source": [
    "age_diagnose = diabetes_df.groupby([\"diabetes_numeric\", \"age_range\"])[\"age_range\"].count()\n",
    "print(age_diagnose)"
   ]
  },
  {
   "cell_type": "code",
   "execution_count": 26,
   "id": "c5ddb21f",
   "metadata": {},
   "outputs": [
    {
     "name": "stdout",
     "output_type": "stream",
     "text": [
      "diabetes_numeric  smoking_history_numeric\n",
      "0                 0                          4372\n",
      "                  1                          2674\n",
      "1                 0                          3818\n",
      "                  1                          3228\n",
      "Name: smoking_history_numeric, dtype: int64\n"
     ]
    }
   ],
   "source": [
    "smoking_diagnose = diabetes_df.groupby([\"diabetes_numeric\", \"smoking_history_numeric\"])[\"smoking_history_numeric\"].count()\n",
    "print(smoking_diagnose)"
   ]
  },
  {
   "cell_type": "code",
   "execution_count": 27,
   "id": "ca54ddcf",
   "metadata": {},
   "outputs": [
    {
     "name": "stdout",
     "output_type": "stream",
     "text": [
      "diabetes_numeric  hypertension_numeric  heart_disease_numeric\n",
      "0                 0                     0                        6278\n",
      "                                        1                         188\n",
      "                  1                     0                         526\n",
      "                                        1                          54\n",
      "1                 0                     0                        4472\n",
      "                                        1                         738\n",
      "                  1                     0                        1522\n",
      "                                        1                         314\n",
      "Name: diabetes_numeric, dtype: int64\n"
     ]
    }
   ],
   "source": [
    "health_diagnose = diabetes_df.groupby([\"diabetes_numeric\", \"hypertension_numeric\",\"heart_disease_numeric\"])[\"diabetes_numeric\"].count()\n",
    "print(health_diagnose)"
   ]
  },
  {
   "cell_type": "code",
   "execution_count": null,
   "id": "8c8ecaac",
   "metadata": {},
   "outputs": [],
   "source": []
  }
 ],
 "metadata": {
  "kernelspec": {
   "display_name": "Python 3 (ipykernel)",
   "language": "python",
   "name": "python3"
  },
  "language_info": {
   "codemirror_mode": {
    "name": "ipython",
    "version": 3
   },
   "file_extension": ".py",
   "mimetype": "text/x-python",
   "name": "python",
   "nbconvert_exporter": "python",
   "pygments_lexer": "ipython3",
   "version": "3.9.16"
  }
 },
 "nbformat": 4,
 "nbformat_minor": 5
}
