{
 "cells": [
  {
   "cell_type": "code",
   "execution_count": 1,
   "id": "35d05271",
   "metadata": {},
   "outputs": [],
   "source": [
    "import pandas as pd\n",
    "import os\n",
    "import numpy as np"
   ]
  },
  {
   "cell_type": "code",
   "execution_count": 2,
   "id": "fd580d3f",
   "metadata": {},
   "outputs": [
    {
     "data": {
      "text/html": [
       "<div>\n",
       "<style scoped>\n",
       "    .dataframe tbody tr th:only-of-type {\n",
       "        vertical-align: middle;\n",
       "    }\n",
       "\n",
       "    .dataframe tbody tr th {\n",
       "        vertical-align: top;\n",
       "    }\n",
       "\n",
       "    .dataframe thead th {\n",
       "        text-align: right;\n",
       "    }\n",
       "</style>\n",
       "<table border=\"1\" class=\"dataframe\">\n",
       "  <thead>\n",
       "    <tr style=\"text-align: right;\">\n",
       "      <th></th>\n",
       "      <th>patient_no</th>\n",
       "      <th>gender_numeric</th>\n",
       "      <th>age</th>\n",
       "      <th>age_range</th>\n",
       "      <th>hypertension_numeric</th>\n",
       "      <th>heart_disease_numeric</th>\n",
       "      <th>smoking_history_numeric</th>\n",
       "      <th>bmi</th>\n",
       "      <th>hba1c_level</th>\n",
       "      <th>blood_glucose_level</th>\n",
       "      <th>diabetes_numeric</th>\n",
       "    </tr>\n",
       "  </thead>\n",
       "  <tbody>\n",
       "    <tr>\n",
       "      <th>0</th>\n",
       "      <td>1</td>\n",
       "      <td>0</td>\n",
       "      <td>80.0</td>\n",
       "      <td>5</td>\n",
       "      <td>0</td>\n",
       "      <td>1</td>\n",
       "      <td>0</td>\n",
       "      <td>25.19</td>\n",
       "      <td>6.6</td>\n",
       "      <td>140</td>\n",
       "      <td>0</td>\n",
       "    </tr>\n",
       "    <tr>\n",
       "      <th>1</th>\n",
       "      <td>3</td>\n",
       "      <td>1</td>\n",
       "      <td>28.0</td>\n",
       "      <td>2</td>\n",
       "      <td>0</td>\n",
       "      <td>0</td>\n",
       "      <td>0</td>\n",
       "      <td>27.32</td>\n",
       "      <td>5.7</td>\n",
       "      <td>158</td>\n",
       "      <td>0</td>\n",
       "    </tr>\n",
       "    <tr>\n",
       "      <th>2</th>\n",
       "      <td>4</td>\n",
       "      <td>0</td>\n",
       "      <td>36.0</td>\n",
       "      <td>3</td>\n",
       "      <td>0</td>\n",
       "      <td>0</td>\n",
       "      <td>1</td>\n",
       "      <td>23.45</td>\n",
       "      <td>5.0</td>\n",
       "      <td>155</td>\n",
       "      <td>0</td>\n",
       "    </tr>\n",
       "    <tr>\n",
       "      <th>3</th>\n",
       "      <td>5</td>\n",
       "      <td>1</td>\n",
       "      <td>76.0</td>\n",
       "      <td>5</td>\n",
       "      <td>1</td>\n",
       "      <td>1</td>\n",
       "      <td>1</td>\n",
       "      <td>20.14</td>\n",
       "      <td>4.8</td>\n",
       "      <td>155</td>\n",
       "      <td>0</td>\n",
       "    </tr>\n",
       "    <tr>\n",
       "      <th>4</th>\n",
       "      <td>6</td>\n",
       "      <td>0</td>\n",
       "      <td>20.0</td>\n",
       "      <td>1</td>\n",
       "      <td>0</td>\n",
       "      <td>0</td>\n",
       "      <td>0</td>\n",
       "      <td>27.32</td>\n",
       "      <td>6.6</td>\n",
       "      <td>85</td>\n",
       "      <td>0</td>\n",
       "    </tr>\n",
       "  </tbody>\n",
       "</table>\n",
       "</div>"
      ],
      "text/plain": [
       "   patient_no  gender_numeric   age  age_range  hypertension_numeric  \\\n",
       "0           1               0  80.0          5                     0   \n",
       "1           3               1  28.0          2                     0   \n",
       "2           4               0  36.0          3                     0   \n",
       "3           5               1  76.0          5                     1   \n",
       "4           6               0  20.0          1                     0   \n",
       "\n",
       "   heart_disease_numeric  smoking_history_numeric    bmi  hba1c_level  \\\n",
       "0                      1                        0  25.19          6.6   \n",
       "1                      0                        0  27.32          5.7   \n",
       "2                      0                        1  23.45          5.0   \n",
       "3                      1                        1  20.14          4.8   \n",
       "4                      0                        0  27.32          6.6   \n",
       "\n",
       "   blood_glucose_level  diabetes_numeric  \n",
       "0                  140                 0  \n",
       "1                  158                 0  \n",
       "2                  155                 0  \n",
       "3                  155                 0  \n",
       "4                   85                 0  "
      ]
     },
     "execution_count": 2,
     "metadata": {},
     "output_type": "execute_result"
    }
   ],
   "source": [
    "diabetes_df = pd.read_csv('full_numeric_table.csv')\n",
    "diabetes_df = pd.DataFrame(diabetes_df)\n",
    "\n",
    "diabetes_df.head()"
   ]
  },
  {
   "cell_type": "code",
   "execution_count": 4,
   "id": "2f9520c7",
   "metadata": {},
   "outputs": [
    {
     "name": "stdout",
     "output_type": "stream",
     "text": [
      "<class 'pandas.core.frame.DataFrame'>\n",
      "RangeIndex: 14092 entries, 0 to 14091\n",
      "Data columns (total 11 columns):\n",
      " #   Column                   Non-Null Count  Dtype  \n",
      "---  ------                   --------------  -----  \n",
      " 0   patient_no               14092 non-null  int64  \n",
      " 1   gender_numeric           14092 non-null  int64  \n",
      " 2   age                      14092 non-null  float64\n",
      " 3   age_range                14092 non-null  int64  \n",
      " 4   hypertension_numeric     14092 non-null  int64  \n",
      " 5   heart_disease_numeric    14092 non-null  int64  \n",
      " 6   smoking_history_numeric  14092 non-null  int64  \n",
      " 7   bmi                      14092 non-null  float64\n",
      " 8   hba1c_level              14092 non-null  float64\n",
      " 9   blood_glucose_level      14092 non-null  int64  \n",
      " 10  diabetes_numeric         14092 non-null  int64  \n",
      "dtypes: float64(3), int64(8)\n",
      "memory usage: 1.2 MB\n"
     ]
    }
   ],
   "source": [
    "diabetes_df.info()"
   ]
  },
  {
   "cell_type": "code",
   "execution_count": 5,
   "id": "efb287bd",
   "metadata": {},
   "outputs": [
    {
     "data": {
      "text/plain": [
       "age_range\n",
       "5    7002\n",
       "4    2482\n",
       "3    1791\n",
       "2    1415\n",
       "1     894\n",
       "0     508\n",
       "dtype: int64"
      ]
     },
     "execution_count": 5,
     "metadata": {},
     "output_type": "execute_result"
    }
   ],
   "source": [
    "#Check the value count of ages\n",
    "age_count = diabetes_df.value_counts(\"age_range\")\n",
    "age_count"
   ]
  },
  {
   "cell_type": "code",
   "execution_count": 6,
   "id": "c4ba0259",
   "metadata": {},
   "outputs": [
    {
     "data": {
      "text/html": [
       "<div>\n",
       "<style scoped>\n",
       "    .dataframe tbody tr th:only-of-type {\n",
       "        vertical-align: middle;\n",
       "    }\n",
       "\n",
       "    .dataframe tbody tr th {\n",
       "        vertical-align: top;\n",
       "    }\n",
       "\n",
       "    .dataframe thead th {\n",
       "        text-align: right;\n",
       "    }\n",
       "</style>\n",
       "<table border=\"1\" class=\"dataframe\">\n",
       "  <thead>\n",
       "    <tr style=\"text-align: right;\">\n",
       "      <th></th>\n",
       "      <th>age_range</th>\n",
       "      <th>counts</th>\n",
       "    </tr>\n",
       "  </thead>\n",
       "  <tbody>\n",
       "    <tr>\n",
       "      <th>0</th>\n",
       "      <td>5</td>\n",
       "      <td>7002</td>\n",
       "    </tr>\n",
       "    <tr>\n",
       "      <th>1</th>\n",
       "      <td>4</td>\n",
       "      <td>2482</td>\n",
       "    </tr>\n",
       "    <tr>\n",
       "      <th>2</th>\n",
       "      <td>3</td>\n",
       "      <td>1791</td>\n",
       "    </tr>\n",
       "    <tr>\n",
       "      <th>3</th>\n",
       "      <td>2</td>\n",
       "      <td>1415</td>\n",
       "    </tr>\n",
       "    <tr>\n",
       "      <th>4</th>\n",
       "      <td>1</td>\n",
       "      <td>894</td>\n",
       "    </tr>\n",
       "  </tbody>\n",
       "</table>\n",
       "</div>"
      ],
      "text/plain": [
       "   age_range  counts\n",
       "0          5    7002\n",
       "1          4    2482\n",
       "2          3    1791\n",
       "3          2    1415\n",
       "4          1     894"
      ]
     },
     "execution_count": 6,
     "metadata": {},
     "output_type": "execute_result"
    }
   ],
   "source": [
    "age_df = pd.DataFrame(age_count)\n",
    "age_df = age_df.reset_index()\n",
    "age_df.columns = [\"age_range\", \"counts\"]\n",
    "age_df.head()"
   ]
  },
  {
   "cell_type": "code",
   "execution_count": 7,
   "id": "c69726a3",
   "metadata": {},
   "outputs": [
    {
     "name": "stdout",
     "output_type": "stream",
     "text": [
      "   age_range  counts\n",
      "0          5    7002\n",
      "1          4    2482\n",
      "2          3    1791\n",
      "3          2    1415\n",
      "4          1     894\n",
      "5          0     508\n"
     ]
    }
   ],
   "source": [
    "age_df.sort_values(\"age_range\", ascending=True)\n",
    "\n",
    "print(age_df)"
   ]
  },
  {
   "cell_type": "code",
   "execution_count": 33,
   "id": "49abcabf",
   "metadata": {},
   "outputs": [
    {
     "data": {
      "text/plain": [
       "gender\n",
       "Female    38852\n",
       "Male      25320\n",
       "Other        12\n",
       "dtype: int64"
      ]
     },
     "execution_count": 33,
     "metadata": {},
     "output_type": "execute_result"
    }
   ],
   "source": [
    "gender_count = diabetes_df.value_counts(\"gender\")\n",
    "gender_count"
   ]
  },
  {
   "cell_type": "code",
   "execution_count": 34,
   "id": "096a4fe4",
   "metadata": {},
   "outputs": [
    {
     "name": "stdout",
     "output_type": "stream",
     "text": [
      "diabetes  gender\n",
      "f         Female    35145\n",
      "          Male      21981\n",
      "          Other        12\n",
      "t         Female     3707\n",
      "          Male       3339\n",
      "Name: gender, dtype: int64\n"
     ]
    }
   ],
   "source": [
    "gender_diagnose = diabetes_df.groupby([\"diabetes\", \"gender\"])[\"gender\"].count()\n",
    "print(gender_diagnose)"
   ]
  },
  {
   "cell_type": "code",
   "execution_count": 35,
   "id": "280caebe",
   "metadata": {},
   "outputs": [
    {
     "name": "stdout",
     "output_type": "stream",
     "text": [
      "diabetes  age  \n",
      "f         0.16       3\n",
      "          0.24       5\n",
      "          0.32       4\n",
      "          0.40       4\n",
      "          0.48       4\n",
      "                  ... \n",
      "t         76.00    121\n",
      "          77.00    120\n",
      "          78.00    114\n",
      "          79.00    118\n",
      "          80.00    830\n",
      "Name: age, Length: 173, dtype: int64\n"
     ]
    }
   ],
   "source": [
    "age_diagnose = diabetes_df.groupby([\"diabetes\", \"age\"])[\"age\"].count()\n",
    "print(age_diagnose)"
   ]
  },
  {
   "cell_type": "code",
   "execution_count": 36,
   "id": "c5ddb21f",
   "metadata": {},
   "outputs": [
    {
     "name": "stdout",
     "output_type": "stream",
     "text": [
      "diabetes  smoking_history\n",
      "f         current             8338\n",
      "          former              7762\n",
      "          never              35281\n",
      "          not current         5757\n",
      "t         current              948\n",
      "          former              1590\n",
      "          never               3818\n",
      "          not current          690\n",
      "Name: smoking_history, dtype: int64\n"
     ]
    }
   ],
   "source": [
    "smoking_diagnose = diabetes_df.groupby([\"diabetes\", \"smoking_history\"])[\"smoking_history\"].count()\n",
    "print(smoking_diagnose)"
   ]
  },
  {
   "cell_type": "code",
   "execution_count": 38,
   "id": "ca54ddcf",
   "metadata": {},
   "outputs": [
    {
     "name": "stdout",
     "output_type": "stream",
     "text": [
      "diabetes  hypertension  heart_disease\n",
      "f         f             f                51180\n",
      "                        t                 1511\n",
      "          t             f                 3991\n",
      "                        t                  456\n",
      "t         f             f                 4472\n",
      "                        t                  738\n",
      "          t             f                 1522\n",
      "                        t                  314\n",
      "Name: diabetes, dtype: int64\n"
     ]
    }
   ],
   "source": [
    "health_diagnose = diabetes_df.groupby([\"diabetes\", \"hypertension\",\"heart_disease\"])[\"diabetes\"].count()\n",
    "print(health_diagnose)"
   ]
  },
  {
   "cell_type": "code",
   "execution_count": null,
   "id": "8c8ecaac",
   "metadata": {},
   "outputs": [],
   "source": []
  }
 ],
 "metadata": {
  "kernelspec": {
   "display_name": "Python 3 (ipykernel)",
   "language": "python",
   "name": "python3"
  },
  "language_info": {
   "codemirror_mode": {
    "name": "ipython",
    "version": 3
   },
   "file_extension": ".py",
   "mimetype": "text/x-python",
   "name": "python",
   "nbconvert_exporter": "python",
   "pygments_lexer": "ipython3",
   "version": "3.9.16"
  }
 },
 "nbformat": 4,
 "nbformat_minor": 5
}
