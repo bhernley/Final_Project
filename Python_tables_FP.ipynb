{
 "cells": [
  {
   "cell_type": "code",
   "execution_count": 26,
   "id": "35d05271",
   "metadata": {},
   "outputs": [],
   "source": [
    "import pandas as pd\n",
    "import os\n",
    "import numpy as np"
   ]
  },
  {
   "cell_type": "code",
   "execution_count": 27,
   "id": "fd580d3f",
   "metadata": {},
   "outputs": [
    {
     "data": {
      "text/html": [
       "<div>\n",
       "<style scoped>\n",
       "    .dataframe tbody tr th:only-of-type {\n",
       "        vertical-align: middle;\n",
       "    }\n",
       "\n",
       "    .dataframe tbody tr th {\n",
       "        vertical-align: top;\n",
       "    }\n",
       "\n",
       "    .dataframe thead th {\n",
       "        text-align: right;\n",
       "    }\n",
       "</style>\n",
       "<table border=\"1\" class=\"dataframe\">\n",
       "  <thead>\n",
       "    <tr style=\"text-align: right;\">\n",
       "      <th></th>\n",
       "      <th>patient_no</th>\n",
       "      <th>gender</th>\n",
       "      <th>age</th>\n",
       "      <th>hypertension</th>\n",
       "      <th>heart_disease</th>\n",
       "      <th>smoking_history</th>\n",
       "      <th>have_ever_smoked</th>\n",
       "      <th>bmi</th>\n",
       "      <th>hba1c_level</th>\n",
       "      <th>blood_glucose_level</th>\n",
       "      <th>diabetes</th>\n",
       "    </tr>\n",
       "  </thead>\n",
       "  <tbody>\n",
       "    <tr>\n",
       "      <th>0</th>\n",
       "      <td>1</td>\n",
       "      <td>Female</td>\n",
       "      <td>80.0</td>\n",
       "      <td>f</td>\n",
       "      <td>t</td>\n",
       "      <td>never</td>\n",
       "      <td>False</td>\n",
       "      <td>25.19</td>\n",
       "      <td>6.6</td>\n",
       "      <td>140</td>\n",
       "      <td>f</td>\n",
       "    </tr>\n",
       "    <tr>\n",
       "      <th>1</th>\n",
       "      <td>3</td>\n",
       "      <td>Male</td>\n",
       "      <td>28.0</td>\n",
       "      <td>f</td>\n",
       "      <td>f</td>\n",
       "      <td>never</td>\n",
       "      <td>False</td>\n",
       "      <td>27.32</td>\n",
       "      <td>5.7</td>\n",
       "      <td>158</td>\n",
       "      <td>f</td>\n",
       "    </tr>\n",
       "    <tr>\n",
       "      <th>2</th>\n",
       "      <td>4</td>\n",
       "      <td>Female</td>\n",
       "      <td>36.0</td>\n",
       "      <td>f</td>\n",
       "      <td>f</td>\n",
       "      <td>current</td>\n",
       "      <td>True</td>\n",
       "      <td>23.45</td>\n",
       "      <td>5.0</td>\n",
       "      <td>155</td>\n",
       "      <td>f</td>\n",
       "    </tr>\n",
       "    <tr>\n",
       "      <th>3</th>\n",
       "      <td>5</td>\n",
       "      <td>Male</td>\n",
       "      <td>76.0</td>\n",
       "      <td>t</td>\n",
       "      <td>t</td>\n",
       "      <td>current</td>\n",
       "      <td>True</td>\n",
       "      <td>20.14</td>\n",
       "      <td>4.8</td>\n",
       "      <td>155</td>\n",
       "      <td>f</td>\n",
       "    </tr>\n",
       "    <tr>\n",
       "      <th>4</th>\n",
       "      <td>6</td>\n",
       "      <td>Female</td>\n",
       "      <td>20.0</td>\n",
       "      <td>f</td>\n",
       "      <td>f</td>\n",
       "      <td>never</td>\n",
       "      <td>False</td>\n",
       "      <td>27.32</td>\n",
       "      <td>6.6</td>\n",
       "      <td>85</td>\n",
       "      <td>f</td>\n",
       "    </tr>\n",
       "  </tbody>\n",
       "</table>\n",
       "</div>"
      ],
      "text/plain": [
       "   patient_no  gender   age hypertension heart_disease smoking_history  \\\n",
       "0           1  Female  80.0            f             t           never   \n",
       "1           3    Male  28.0            f             f           never   \n",
       "2           4  Female  36.0            f             f         current   \n",
       "3           5    Male  76.0            t             t         current   \n",
       "4           6  Female  20.0            f             f           never   \n",
       "\n",
       "   have_ever_smoked    bmi  hba1c_level  blood_glucose_level diabetes  \n",
       "0             False  25.19          6.6                  140        f  \n",
       "1             False  27.32          5.7                  158        f  \n",
       "2              True  23.45          5.0                  155        f  \n",
       "3              True  20.14          4.8                  155        f  \n",
       "4             False  27.32          6.6                   85        f  "
      ]
     },
     "execution_count": 27,
     "metadata": {},
     "output_type": "execute_result"
    }
   ],
   "source": [
    "diabetes_df = pd.read_csv('clean_dataset.csv')\n",
    "diabetes_df = pd.DataFrame(diabetes_df)\n",
    "\n",
    "diabetes_df.head()"
   ]
  },
  {
   "cell_type": "code",
   "execution_count": 28,
   "id": "2f9520c7",
   "metadata": {},
   "outputs": [
    {
     "name": "stdout",
     "output_type": "stream",
     "text": [
      "<class 'pandas.core.frame.DataFrame'>\n",
      "RangeIndex: 64184 entries, 0 to 64183\n",
      "Data columns (total 11 columns):\n",
      " #   Column               Non-Null Count  Dtype  \n",
      "---  ------               --------------  -----  \n",
      " 0   patient_no           64184 non-null  int64  \n",
      " 1   gender               64184 non-null  object \n",
      " 2   age                  64184 non-null  float64\n",
      " 3   hypertension         64184 non-null  object \n",
      " 4   heart_disease        64184 non-null  object \n",
      " 5   smoking_history      64184 non-null  object \n",
      " 6   have_ever_smoked     64184 non-null  bool   \n",
      " 7   bmi                  64184 non-null  float64\n",
      " 8   hba1c_level          64184 non-null  float64\n",
      " 9   blood_glucose_level  64184 non-null  int64  \n",
      " 10  diabetes             64184 non-null  object \n",
      "dtypes: bool(1), float64(3), int64(2), object(5)\n",
      "memory usage: 5.0+ MB\n"
     ]
    }
   ],
   "source": [
    "df.info()"
   ]
  },
  {
   "cell_type": "code",
   "execution_count": 29,
   "id": "efb287bd",
   "metadata": {},
   "outputs": [
    {
     "data": {
      "text/plain": [
       "age\n",
       "80.00    3822\n",
       "51.00    1198\n",
       "49.00    1172\n",
       "52.00    1168\n",
       "53.00    1163\n",
       "         ... \n",
       "0.48        4\n",
       "1.00        4\n",
       "0.64        3\n",
       "0.16        3\n",
       "0.56        2\n",
       "Length: 101, dtype: int64"
      ]
     },
     "execution_count": 29,
     "metadata": {},
     "output_type": "execute_result"
    }
   ],
   "source": [
    "#Check the value count of ages\n",
    "age_count = diabetes_df.value_counts(\"age\")\n",
    "age_count"
   ]
  },
  {
   "cell_type": "code",
   "execution_count": 30,
   "id": "c4ba0259",
   "metadata": {},
   "outputs": [
    {
     "data": {
      "text/html": [
       "<div>\n",
       "<style scoped>\n",
       "    .dataframe tbody tr th:only-of-type {\n",
       "        vertical-align: middle;\n",
       "    }\n",
       "\n",
       "    .dataframe tbody tr th {\n",
       "        vertical-align: top;\n",
       "    }\n",
       "\n",
       "    .dataframe thead th {\n",
       "        text-align: right;\n",
       "    }\n",
       "</style>\n",
       "<table border=\"1\" class=\"dataframe\">\n",
       "  <thead>\n",
       "    <tr style=\"text-align: right;\">\n",
       "      <th></th>\n",
       "      <th>age</th>\n",
       "      <th>counts</th>\n",
       "    </tr>\n",
       "  </thead>\n",
       "  <tbody>\n",
       "    <tr>\n",
       "      <th>0</th>\n",
       "      <td>80.0</td>\n",
       "      <td>3822</td>\n",
       "    </tr>\n",
       "    <tr>\n",
       "      <th>1</th>\n",
       "      <td>51.0</td>\n",
       "      <td>1198</td>\n",
       "    </tr>\n",
       "    <tr>\n",
       "      <th>2</th>\n",
       "      <td>49.0</td>\n",
       "      <td>1172</td>\n",
       "    </tr>\n",
       "    <tr>\n",
       "      <th>3</th>\n",
       "      <td>52.0</td>\n",
       "      <td>1168</td>\n",
       "    </tr>\n",
       "    <tr>\n",
       "      <th>4</th>\n",
       "      <td>53.0</td>\n",
       "      <td>1163</td>\n",
       "    </tr>\n",
       "  </tbody>\n",
       "</table>\n",
       "</div>"
      ],
      "text/plain": [
       "    age  counts\n",
       "0  80.0    3822\n",
       "1  51.0    1198\n",
       "2  49.0    1172\n",
       "3  52.0    1168\n",
       "4  53.0    1163"
      ]
     },
     "execution_count": 30,
     "metadata": {},
     "output_type": "execute_result"
    }
   ],
   "source": [
    "age_df = pd.DataFrame(age_count)\n",
    "age_df = age_df.reset_index()\n",
    "age_df.columns = [\"age\", \"counts\"]\n",
    "age_df.head()"
   ]
  },
  {
   "cell_type": "code",
   "execution_count": 31,
   "id": "c69726a3",
   "metadata": {},
   "outputs": [
    {
     "name": "stdout",
     "output_type": "stream",
     "text": [
      "       age  counts\n",
      "0    80.00    3822\n",
      "1    51.00    1198\n",
      "2    49.00    1172\n",
      "3    52.00    1168\n",
      "4    53.00    1163\n",
      "..     ...     ...\n",
      "96    0.48       4\n",
      "97    1.00       4\n",
      "98    0.64       3\n",
      "99    0.16       3\n",
      "100   0.56       2\n",
      "\n",
      "[101 rows x 2 columns]\n"
     ]
    }
   ],
   "source": [
    "age_df.sort_values(\"age\", ascending=True)\n",
    "\n",
    "print(age_df)"
   ]
  },
  {
   "cell_type": "code",
   "execution_count": 33,
   "id": "49abcabf",
   "metadata": {},
   "outputs": [
    {
     "data": {
      "text/plain": [
       "gender\n",
       "Female    38852\n",
       "Male      25320\n",
       "Other        12\n",
       "dtype: int64"
      ]
     },
     "execution_count": 33,
     "metadata": {},
     "output_type": "execute_result"
    }
   ],
   "source": [
    "gender_count = diabetes_df.value_counts(\"gender\")\n",
    "gender_count"
   ]
  },
  {
   "cell_type": "code",
   "execution_count": 34,
   "id": "096a4fe4",
   "metadata": {},
   "outputs": [
    {
     "name": "stdout",
     "output_type": "stream",
     "text": [
      "diabetes  gender\n",
      "f         Female    35145\n",
      "          Male      21981\n",
      "          Other        12\n",
      "t         Female     3707\n",
      "          Male       3339\n",
      "Name: gender, dtype: int64\n"
     ]
    }
   ],
   "source": [
    "gender_diagnose = diabetes_df.groupby([\"diabetes\", \"gender\"])[\"gender\"].count()\n",
    "print(gender_diagnose)"
   ]
  },
  {
   "cell_type": "code",
   "execution_count": 35,
   "id": "280caebe",
   "metadata": {},
   "outputs": [
    {
     "name": "stdout",
     "output_type": "stream",
     "text": [
      "diabetes  age  \n",
      "f         0.16       3\n",
      "          0.24       5\n",
      "          0.32       4\n",
      "          0.40       4\n",
      "          0.48       4\n",
      "                  ... \n",
      "t         76.00    121\n",
      "          77.00    120\n",
      "          78.00    114\n",
      "          79.00    118\n",
      "          80.00    830\n",
      "Name: age, Length: 173, dtype: int64\n"
     ]
    }
   ],
   "source": [
    "age_diagnose = diabetes_df.groupby([\"diabetes\", \"age\"])[\"age\"].count()\n",
    "print(age_diagnose)"
   ]
  },
  {
   "cell_type": "code",
   "execution_count": 36,
   "id": "c5ddb21f",
   "metadata": {},
   "outputs": [
    {
     "name": "stdout",
     "output_type": "stream",
     "text": [
      "diabetes  smoking_history\n",
      "f         current             8338\n",
      "          former              7762\n",
      "          never              35281\n",
      "          not current         5757\n",
      "t         current              948\n",
      "          former              1590\n",
      "          never               3818\n",
      "          not current          690\n",
      "Name: smoking_history, dtype: int64\n"
     ]
    }
   ],
   "source": [
    "smoking_diagnose = diabetes_df.groupby([\"diabetes\", \"smoking_history\"])[\"smoking_history\"].count()\n",
    "print(smoking_diagnose)"
   ]
  },
  {
   "cell_type": "code",
   "execution_count": 38,
   "id": "ca54ddcf",
   "metadata": {},
   "outputs": [
    {
     "name": "stdout",
     "output_type": "stream",
     "text": [
      "diabetes  hypertension  heart_disease\n",
      "f         f             f                51180\n",
      "                        t                 1511\n",
      "          t             f                 3991\n",
      "                        t                  456\n",
      "t         f             f                 4472\n",
      "                        t                  738\n",
      "          t             f                 1522\n",
      "                        t                  314\n",
      "Name: diabetes, dtype: int64\n"
     ]
    }
   ],
   "source": [
    "health_diagnose = diabetes_df.groupby([\"diabetes\", \"hypertension\",\"heart_disease\"])[\"diabetes\"].count()\n",
    "print(health_diagnose)"
   ]
  },
  {
   "cell_type": "code",
   "execution_count": null,
   "id": "8c8ecaac",
   "metadata": {},
   "outputs": [],
   "source": []
  }
 ],
 "metadata": {
  "kernelspec": {
   "display_name": "Python 3 (ipykernel)",
   "language": "python",
   "name": "python3"
  },
  "language_info": {
   "codemirror_mode": {
    "name": "ipython",
    "version": 3
   },
   "file_extension": ".py",
   "mimetype": "text/x-python",
   "name": "python",
   "nbconvert_exporter": "python",
   "pygments_lexer": "ipython3",
   "version": "3.9.16"
  }
 },
 "nbformat": 4,
 "nbformat_minor": 5
}
